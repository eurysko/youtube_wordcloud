{
 "cells": [
  {
   "cell_type": "code",
   "execution_count": 2,
   "metadata": {
    "scrolled": false
   },
   "outputs": [
    {
     "ename": "FileNotFoundError",
     "evalue": "[Errno 2] No such file or directory: 'path/to/idf_file'",
     "output_type": "error",
     "traceback": [
      "\u001b[0;31m---------------------------------------------------------------------------\u001b[0m",
      "\u001b[0;31mFileNotFoundError\u001b[0m                         Traceback (most recent call last)",
      "\u001b[0;32m<ipython-input-2-593ea1c2f4b8>\u001b[0m in \u001b[0;36m<module>\u001b[0;34m()\u001b[0m\n\u001b[1;32m     57\u001b[0m \u001b[0;34m\u001b[0m\u001b[0m\n\u001b[1;32m     58\u001b[0m \u001b[0;32mif\u001b[0m \u001b[0m__name__\u001b[0m\u001b[0;34m==\u001b[0m\u001b[0;34m'__main__'\u001b[0m\u001b[0;34m:\u001b[0m\u001b[0;34m\u001b[0m\u001b[0m\n\u001b[0;32m---> 59\u001b[0;31m     \u001b[0mmain\u001b[0m\u001b[0;34m(\u001b[0m\u001b[0;34m)\u001b[0m\u001b[0;34m\u001b[0m\u001b[0m\n\u001b[0m",
      "\u001b[0;32m<ipython-input-2-593ea1c2f4b8>\u001b[0m in \u001b[0;36mmain\u001b[0;34m()\u001b[0m\n\u001b[1;32m     54\u001b[0m     \u001b[0mtf_filename\u001b[0m \u001b[0;34m=\u001b[0m \u001b[0;34m\"path/to/tf_file\"\u001b[0m\u001b[0;34m\u001b[0m\u001b[0m\n\u001b[1;32m     55\u001b[0m     \u001b[0midf_filename\u001b[0m \u001b[0;34m=\u001b[0m \u001b[0;34m\"path/to/idf_file\"\u001b[0m\u001b[0;34m\u001b[0m\u001b[0m\n\u001b[0;32m---> 56\u001b[0;31m     \u001b[0mshow\u001b[0m\u001b[0;34m(\u001b[0m\u001b[0mtf_filename\u001b[0m\u001b[0;34m,\u001b[0m \u001b[0midf_filename\u001b[0m\u001b[0;34m)\u001b[0m\u001b[0;34m\u001b[0m\u001b[0m\n\u001b[0m\u001b[1;32m     57\u001b[0m \u001b[0;34m\u001b[0m\u001b[0m\n\u001b[1;32m     58\u001b[0m \u001b[0;32mif\u001b[0m \u001b[0m__name__\u001b[0m\u001b[0;34m==\u001b[0m\u001b[0;34m'__main__'\u001b[0m\u001b[0;34m:\u001b[0m\u001b[0;34m\u001b[0m\u001b[0m\n",
      "\u001b[0;32m<ipython-input-2-593ea1c2f4b8>\u001b[0m in \u001b[0;36mshow\u001b[0;34m(tf_filename, idf_filename)\u001b[0m\n\u001b[1;32m     12\u001b[0m     \u001b[0mdict_idf\u001b[0m \u001b[0;34m=\u001b[0m \u001b[0;34m{\u001b[0m\u001b[0;34m}\u001b[0m\u001b[0;34m\u001b[0m\u001b[0m\n\u001b[1;32m     13\u001b[0m     \u001b[0mdict_tfidf\u001b[0m \u001b[0;34m=\u001b[0m \u001b[0;34m{\u001b[0m\u001b[0;34m}\u001b[0m\u001b[0;34m\u001b[0m\u001b[0m\n\u001b[0;32m---> 14\u001b[0;31m     \u001b[0;32mwith\u001b[0m \u001b[0mopen\u001b[0m\u001b[0;34m(\u001b[0m\u001b[0midf_filename\u001b[0m\u001b[0;34m)\u001b[0m \u001b[0;32mas\u001b[0m \u001b[0mf\u001b[0m\u001b[0;34m:\u001b[0m\u001b[0;34m\u001b[0m\u001b[0m\n\u001b[0m\u001b[1;32m     15\u001b[0m         \u001b[0mlines\u001b[0m \u001b[0;34m=\u001b[0m \u001b[0mf\u001b[0m\u001b[0;34m.\u001b[0m\u001b[0mreadlines\u001b[0m\u001b[0;34m(\u001b[0m\u001b[0;34m)\u001b[0m\u001b[0;34m\u001b[0m\u001b[0m\n\u001b[1;32m     16\u001b[0m     \u001b[0;32mfor\u001b[0m \u001b[0mline\u001b[0m \u001b[0;32min\u001b[0m \u001b[0mlines\u001b[0m\u001b[0;34m:\u001b[0m\u001b[0;34m\u001b[0m\u001b[0m\n",
      "\u001b[0;31mFileNotFoundError\u001b[0m: [Errno 2] No such file or directory: 'path/to/idf_file'"
     ]
    }
   ],
   "source": [
    "# tf値とidf値のファイルからtf-idfを計算し、wordcloudを作成\n",
    "# tfのファイル、idfのファイル、フォントのファイルへのパスを書き換える\n",
    "\n",
    "import os\n",
    "import math\n",
    "from wordcloud import WordCloud\n",
    "import matplotlib.pyplot as plt\n",
    "import emoji\n",
    "import glob\n",
    "\n",
    "def show(tf_filename, idf_filename):\n",
    "    dict_idf = {}\n",
    "    dict_tfidf = {}\n",
    "    with open(idf_filename) as f:\n",
    "        lines = f.readlines()\n",
    "    for line in lines:\n",
    "        k = line.split()[0]\n",
    "        idf = line.split()[1]\n",
    "        dict_idf[k] = float(idf)\n",
    "    with open(tf_filename) as f:\n",
    "        lines = f.readlines()\n",
    "    for line in lines:\n",
    "        k = line.split()[0]\n",
    "        word = k[1:]\n",
    "        if word[-1] == '*':\n",
    "            word = word[:-1]\n",
    "        flag = 0\n",
    "        for c in word:\n",
    "            if c in emoji.UNICODE_EMOJI:\n",
    "                flag = 1\n",
    "                break\n",
    "        if k not in dict_idf.keys() or flag == 1:\n",
    "            continue\n",
    "        tf = line.split()[1]\n",
    "        if word not in dict_tfidf.keys():\n",
    "            dict_tfidf[word] = float(tf)*dict_idf[k]\n",
    "            \n",
    "    font_path='path/to/font'\n",
    "    # デフォルト設定を変更して、colormapを\"rainbow\"に変更                                                                                               \n",
    "    wordcloud = WordCloud(background_color='ghostwhite', min_font_size=10, font_path=font_path,                                                   \n",
    "                          max_font_size=70, width=1000, height=500, prefer_horizontal=0.8, relative_scaling=0.3, colormap='gist_rainbow')\n",
    "    wordcloud.generate_from_frequencies(dict_tfidf)\n",
    "    plt.figure(figsize=[20,20])\n",
    "    plt.axis(\"off\")\n",
    "    fig_title = tf_filename.split('.')[0]+'.png'\n",
    "    # plt.title(fig_title,fontsize=25)\n",
    "    plt.imshow(wordcloud,interpolation='bilinear')\n",
    "    # plt.savefig(fig_title)\n",
    "\n",
    "def get_top_substr(dict_substr):\n",
    "    return [(k, v) for k, v in sorted(dict_substr.items(), key=lambda x: -x[1])]\n",
    "\n",
    "def main():\n",
    "    tf_filename = \"path/to/tf_file\"\n",
    "    idf_filename = \"path/to/idf_file\"\n",
    "    show(tf_filename, idf_filename)\n",
    "\n",
    "if __name__=='__main__':\n",
    "    main()"
   ]
  }
 ],
 "metadata": {
  "kernelspec": {
   "display_name": "Python 3",
   "language": "python",
   "name": "python3"
  },
  "language_info": {
   "codemirror_mode": {
    "name": "ipython",
    "version": 3
   },
   "file_extension": ".py",
   "mimetype": "text/x-python",
   "name": "python",
   "nbconvert_exporter": "python",
   "pygments_lexer": "ipython3",
   "version": "3.6.4"
  }
 },
 "nbformat": 4,
 "nbformat_minor": 2
}
