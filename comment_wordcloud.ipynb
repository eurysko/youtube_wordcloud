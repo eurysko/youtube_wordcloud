{
 "cells": [
  {
   "cell_type": "code",
   "execution_count": 1,
   "metadata": {
    "scrolled": false
   },
   "outputs": [
    {
     "ename": "FileNotFoundError",
     "evalue": "[Errno 2] No such file or directory: 'path/to/tf_file'",
     "output_type": "error",
     "traceback": [
      "\u001b[0;31m---------------------------------------------------------------------------\u001b[0m",
      "\u001b[0;31mFileNotFoundError\u001b[0m                         Traceback (most recent call last)",
      "\u001b[0;32m<ipython-input-1-9630e5caba87>\u001b[0m in \u001b[0;36m<module>\u001b[0;34m()\u001b[0m\n\u001b[1;32m     56\u001b[0m \u001b[0;34m\u001b[0m\u001b[0m\n\u001b[1;32m     57\u001b[0m \u001b[0;32mif\u001b[0m \u001b[0m__name__\u001b[0m\u001b[0;34m==\u001b[0m\u001b[0;34m'__main__'\u001b[0m\u001b[0;34m:\u001b[0m\u001b[0;34m\u001b[0m\u001b[0m\n\u001b[0;32m---> 58\u001b[0;31m     \u001b[0mmain\u001b[0m\u001b[0;34m(\u001b[0m\u001b[0;34m)\u001b[0m\u001b[0;34m\u001b[0m\u001b[0m\n\u001b[0m",
      "\u001b[0;32m<ipython-input-1-9630e5caba87>\u001b[0m in \u001b[0;36mmain\u001b[0;34m()\u001b[0m\n\u001b[1;32m     53\u001b[0m \u001b[0;32mdef\u001b[0m \u001b[0mmain\u001b[0m\u001b[0;34m(\u001b[0m\u001b[0;34m)\u001b[0m\u001b[0;34m:\u001b[0m\u001b[0;34m\u001b[0m\u001b[0m\n\u001b[1;32m     54\u001b[0m     \u001b[0mtf_filename\u001b[0m \u001b[0;34m=\u001b[0m \u001b[0;34m'path/to/tf_file'\u001b[0m\u001b[0;34m\u001b[0m\u001b[0m\n\u001b[0;32m---> 55\u001b[0;31m     \u001b[0mshow\u001b[0m\u001b[0;34m(\u001b[0m\u001b[0mtf_filename\u001b[0m\u001b[0;34m)\u001b[0m\u001b[0;34m\u001b[0m\u001b[0m\n\u001b[0m\u001b[1;32m     56\u001b[0m \u001b[0;34m\u001b[0m\u001b[0m\n\u001b[1;32m     57\u001b[0m \u001b[0;32mif\u001b[0m \u001b[0m__name__\u001b[0m\u001b[0;34m==\u001b[0m\u001b[0;34m'__main__'\u001b[0m\u001b[0;34m:\u001b[0m\u001b[0;34m\u001b[0m\u001b[0m\n",
      "\u001b[0;32m<ipython-input-1-9630e5caba87>\u001b[0m in \u001b[0;36mshow\u001b[0;34m(tf_filename)\u001b[0m\n\u001b[1;32m     13\u001b[0m \u001b[0;32mdef\u001b[0m \u001b[0mshow\u001b[0m\u001b[0;34m(\u001b[0m\u001b[0mtf_filename\u001b[0m\u001b[0;34m)\u001b[0m\u001b[0;34m:\u001b[0m\u001b[0;34m\u001b[0m\u001b[0m\n\u001b[1;32m     14\u001b[0m     \u001b[0mdict_tf\u001b[0m \u001b[0;34m=\u001b[0m \u001b[0;34m{\u001b[0m\u001b[0;34m}\u001b[0m\u001b[0;34m\u001b[0m\u001b[0m\n\u001b[0;32m---> 15\u001b[0;31m     \u001b[0;32mwith\u001b[0m \u001b[0mopen\u001b[0m\u001b[0;34m(\u001b[0m\u001b[0mtf_filename\u001b[0m\u001b[0;34m)\u001b[0m \u001b[0;32mas\u001b[0m \u001b[0mf\u001b[0m\u001b[0;34m:\u001b[0m\u001b[0;34m\u001b[0m\u001b[0m\n\u001b[0m\u001b[1;32m     16\u001b[0m         \u001b[0mlines\u001b[0m \u001b[0;34m=\u001b[0m \u001b[0mf\u001b[0m\u001b[0;34m.\u001b[0m\u001b[0mreadlines\u001b[0m\u001b[0;34m(\u001b[0m\u001b[0;34m)\u001b[0m\u001b[0;34m\u001b[0m\u001b[0m\n\u001b[1;32m     17\u001b[0m     \u001b[0;32mfor\u001b[0m \u001b[0mline\u001b[0m \u001b[0;32min\u001b[0m \u001b[0mlines\u001b[0m\u001b[0;34m:\u001b[0m\u001b[0;34m\u001b[0m\u001b[0m\n",
      "\u001b[0;31mFileNotFoundError\u001b[0m: [Errno 2] No such file or directory: 'path/to/tf_file'"
     ]
    }
   ],
   "source": [
    "# tf値からmaskを適用したwordcloudを作成\n",
    "# tfのファイル、フォントのファイル、マスクのファイルへのパスを書き換える\n",
    "\n",
    "import os\n",
    "import math\n",
    "import numpy as np\n",
    "from PIL import Image\n",
    "from wordcloud import WordCloud, ImageColorGenerator\n",
    "import matplotlib.pyplot as plt\n",
    "import emoji\n",
    "import glob\n",
    "\n",
    "def show(tf_filename):\n",
    "    dict_tf = {}\n",
    "    with open(tf_filename) as f:\n",
    "        lines = f.readlines()\n",
    "    for line in lines:\n",
    "        try:\n",
    "            v = line.split()\n",
    "            if len(v) < 2: continue\n",
    "            k = ' '.join(line.split()[:-1])\n",
    "            flag = 0\n",
    "            for c in k:\n",
    "                if c in emoji.UNICODE_EMOJI or c in [':', '【' '】', '(', ')', '「', '」']:\n",
    "                    flag = 1\n",
    "                    break\n",
    "            if len(k) < 2 or flag == 1: continue\n",
    "            tf = float(line.split()[-1])\n",
    "            if tf == 1:\n",
    "                tf = 1/math.log2(len(k))\n",
    "            dict_tf[k] = float(tf)\n",
    "        except Exception:                                                                                                                                    \n",
    "            continue\n",
    "        \n",
    "    mask = np.array(Image.open('path/to/mask_image_file'))\n",
    "    mask = mask.repeat(3, axis=0).repeat(3, axis=1)\n",
    "    font_path='path/to/font'\n",
    "    wordcloud = WordCloud(background_color='ghostwhite', min_font_size=7, font_path=font_path,                                                   \n",
    "                          max_font_size=100, width=1000, height=500, prefer_horizontal=0.8, relative_scaling=0.1, colormap='gist_rainbow', \n",
    "                          mask=mask, color_func=color_func)\n",
    "    wordcloud.generate_from_frequencies(dict_tf)\n",
    "    plt.figure(figsize=[40,40])\n",
    "    plt.axis(\"off\")\n",
    "    fig_title = tf_filename.split('.')[0].split('/')[-1]+'.png'\n",
    "    # plt.title(fig_title,fontsize=25)\n",
    "    plt.imshow(wordcloud,interpolation='bilinear')\n",
    "    plt.savefig(fig_title, bbox_inches=\"tight\", pad_inches=0.0)\n",
    "    \n",
    "# 色はご自由に\n",
    "def color_func(word, font_size, position, orientation, random_state, font_path):\n",
    "    return np.random.choice(['blue', 'mediumblue', 'darkblue', 'slateblue', 'deepskyblue'])\n",
    "\n",
    "def main():\n",
    "    tf_filename = 'path/to/tf_file'\n",
    "    show(tf_filename)\n",
    "\n",
    "if __name__=='__main__':\n",
    "    main()"
   ]
  },
  {
   "cell_type": "code",
   "execution_count": null,
   "metadata": {},
   "outputs": [],
   "source": []
  }
 ],
 "metadata": {
  "kernelspec": {
   "display_name": "Python 3",
   "language": "python",
   "name": "python3"
  },
  "language_info": {
   "codemirror_mode": {
    "name": "ipython",
    "version": 3
   },
   "file_extension": ".py",
   "mimetype": "text/x-python",
   "name": "python",
   "nbconvert_exporter": "python",
   "pygments_lexer": "ipython3",
   "version": "3.6.4"
  }
 },
 "nbformat": 4,
 "nbformat_minor": 2
}
